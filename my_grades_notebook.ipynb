{
 "cells": [
  {
   "cell_type": "code",
   "execution_count": 90,
   "metadata": {},
   "outputs": [
    {
     "name": "stdout",
     "output_type": "stream",
     "text": [
      "\n",
      "-- Análise do meu histórico com PySpark + Jupyter + Pandas --\n",
      "\n",
      "O objetivo deste Jupyter Notebook é treinar o aprendizado de PySpark e Pandas para obter dados a partir do meu histórico de disciplinas da faculdade.\n",
      "\n"
     ]
    }
   ],
   "source": [
    "print(\"\\n-- Análise do meu histórico com PySpark + Jupyter + Pandas --\\n\")\n",
    "print(\"O objetivo deste Jupyter Notebook é treinar o aprendizado de PySpark e Pandas para obter dados a partir do meu histórico de disciplinas da faculdade.\\n\")"
   ]
  },
  {
   "cell_type": "code",
   "execution_count": 55,
   "metadata": {},
   "outputs": [],
   "source": [
    "from pyspark.sql import functions as F\n",
    "from pyspark.sql import Window as Window\n",
    "from pyspark.sql import types\n",
    "import matplotlib.pyplot as plt"
   ]
  },
  {
   "cell_type": "code",
   "execution_count": 79,
   "metadata": {},
   "outputs": [],
   "source": [
    "#reading csv file\n",
    "df = spark.read.csv(\"data/historico_notas.utf8.csv\", header=True, sep=\",\") \n",
    "#converting Media Final from String to Double\n",
    "df = df.withColumn(\"Media Final\", df[\"Media Final\"].cast(types.DoubleType()))"
   ]
  },
  {
   "cell_type": "code",
   "execution_count": 80,
   "metadata": {},
   "outputs": [
    {
     "name": "stdout",
     "output_type": "stream",
     "text": [
      "root\n",
      " |-- Período: string (nullable = true)\n",
      " |-- Disciplina: string (nullable = true)\n",
      " |-- Media Final: double (nullable = true)\n",
      "\n"
     ]
    }
   ],
   "source": [
    "#checking if the schema is ok\n",
    "df.printSchema()"
   ]
  },
  {
   "cell_type": "code",
   "execution_count": 124,
   "metadata": {
    "scrolled": true
   },
   "outputs": [
    {
     "data": {
      "text/html": [
       "<div>\n",
       "<style scoped>\n",
       "    .dataframe tbody tr th:only-of-type {\n",
       "        vertical-align: middle;\n",
       "    }\n",
       "\n",
       "    .dataframe tbody tr th {\n",
       "        vertical-align: top;\n",
       "    }\n",
       "\n",
       "    .dataframe thead th {\n",
       "        text-align: right;\n",
       "    }\n",
       "</style>\n",
       "<table border=\"1\" class=\"dataframe\">\n",
       "  <thead>\n",
       "    <tr style=\"text-align: right;\">\n",
       "      <th></th>\n",
       "      <th>Período</th>\n",
       "      <th>Disciplina</th>\n",
       "      <th>Media Final</th>\n",
       "    </tr>\n",
       "  </thead>\n",
       "  <tbody>\n",
       "    <tr>\n",
       "      <th>0</th>\n",
       "      <td>2016.1</td>\n",
       "      <td>Algebra Linear I</td>\n",
       "      <td>5.4</td>\n",
       "    </tr>\n",
       "    <tr>\n",
       "      <th>1</th>\n",
       "      <td>2016.1</td>\n",
       "      <td>Geometria Analítica</td>\n",
       "      <td>6.1</td>\n",
       "    </tr>\n",
       "    <tr>\n",
       "      <th>2</th>\n",
       "      <td>2016.1</td>\n",
       "      <td>Matemática Discreta para Computação</td>\n",
       "      <td>6.1</td>\n",
       "    </tr>\n",
       "    <tr>\n",
       "      <th>3</th>\n",
       "      <td>2016.1</td>\n",
       "      <td>Computação I</td>\n",
       "      <td>8.5</td>\n",
       "    </tr>\n",
       "    <tr>\n",
       "      <th>4</th>\n",
       "      <td>2016.1</td>\n",
       "      <td>ICC</td>\n",
       "      <td>5.7</td>\n",
       "    </tr>\n",
       "    <tr>\n",
       "      <th>5</th>\n",
       "      <td>2016.2</td>\n",
       "      <td>Computação 2</td>\n",
       "      <td>7.0</td>\n",
       "    </tr>\n",
       "    <tr>\n",
       "      <th>6</th>\n",
       "      <td>2016.2</td>\n",
       "      <td>Cálculo I</td>\n",
       "      <td>4.2</td>\n",
       "    </tr>\n",
       "    <tr>\n",
       "      <th>7</th>\n",
       "      <td>2016.2</td>\n",
       "      <td>Álgebra Linear Computacional</td>\n",
       "      <td>5.2</td>\n",
       "    </tr>\n",
       "    <tr>\n",
       "      <th>8</th>\n",
       "      <td>2016.2</td>\n",
       "      <td>Circuitos Digitais</td>\n",
       "      <td>5.7</td>\n",
       "    </tr>\n",
       "    <tr>\n",
       "      <th>9</th>\n",
       "      <td>2016.2</td>\n",
       "      <td>Fundamentos de Sistemas</td>\n",
       "      <td>6.7</td>\n",
       "    </tr>\n",
       "  </tbody>\n",
       "</table>\n",
       "</div>"
      ],
      "text/plain": [
       "  Período                           Disciplina  Media Final\n",
       "0  2016.1                     Algebra Linear I          5.4\n",
       "1  2016.1                  Geometria Analítica          6.1\n",
       "2  2016.1  Matemática Discreta para Computação          6.1\n",
       "3  2016.1                         Computação I          8.5\n",
       "4  2016.1                                  ICC          5.7\n",
       "5  2016.2                         Computação 2          7.0\n",
       "6  2016.2                            Cálculo I          4.2\n",
       "7  2016.2         Álgebra Linear Computacional          5.2\n",
       "8  2016.2                   Circuitos Digitais          5.7\n",
       "9  2016.2              Fundamentos de Sistemas          6.7"
      ]
     },
     "execution_count": 124,
     "metadata": {},
     "output_type": "execute_result"
    }
   ],
   "source": [
    "df.limit(10).toPandas()"
   ]
  },
  {
   "cell_type": "code",
   "execution_count": 126,
   "metadata": {},
   "outputs": [
    {
     "name": "stdout",
     "output_type": "stream",
     "text": [
      "\n",
      "Tabela contendo a disciplina de maior nota em cada semestre:\n"
     ]
    },
    {
     "data": {
      "text/html": [
       "<div>\n",
       "<style scoped>\n",
       "    .dataframe tbody tr th:only-of-type {\n",
       "        vertical-align: middle;\n",
       "    }\n",
       "\n",
       "    .dataframe tbody tr th {\n",
       "        vertical-align: top;\n",
       "    }\n",
       "\n",
       "    .dataframe thead th {\n",
       "        text-align: right;\n",
       "    }\n",
       "</style>\n",
       "<table border=\"1\" class=\"dataframe\">\n",
       "  <thead>\n",
       "    <tr style=\"text-align: right;\">\n",
       "      <th></th>\n",
       "      <th>Período</th>\n",
       "      <th>Disciplina</th>\n",
       "      <th>Media Final</th>\n",
       "    </tr>\n",
       "  </thead>\n",
       "  <tbody>\n",
       "    <tr>\n",
       "      <th>0</th>\n",
       "      <td>2016.1</td>\n",
       "      <td>Computação I</td>\n",
       "      <td>8.5</td>\n",
       "    </tr>\n",
       "    <tr>\n",
       "      <th>1</th>\n",
       "      <td>2016.2</td>\n",
       "      <td>Computação 2</td>\n",
       "      <td>7.0</td>\n",
       "    </tr>\n",
       "    <tr>\n",
       "      <th>2</th>\n",
       "      <td>2017.1</td>\n",
       "      <td>Linguagens Formais e Autômatos</td>\n",
       "      <td>8.8</td>\n",
       "    </tr>\n",
       "    <tr>\n",
       "      <th>3</th>\n",
       "      <td>2017.2</td>\n",
       "      <td>Arquitetura de Computadores</td>\n",
       "      <td>6.1</td>\n",
       "    </tr>\n",
       "    <tr>\n",
       "      <th>4</th>\n",
       "      <td>2018.1</td>\n",
       "      <td>Inteligência Artificial</td>\n",
       "      <td>8.5</td>\n",
       "    </tr>\n",
       "    <tr>\n",
       "      <th>5</th>\n",
       "      <td>2018.2</td>\n",
       "      <td>Tópicos Especiais em Ciência da Computação</td>\n",
       "      <td>10.0</td>\n",
       "    </tr>\n",
       "    <tr>\n",
       "      <th>6</th>\n",
       "      <td>2019.1</td>\n",
       "      <td>Probabilidade e Estatística para Ciência da Co...</td>\n",
       "      <td>8.6</td>\n",
       "    </tr>\n",
       "    <tr>\n",
       "      <th>7</th>\n",
       "      <td>2019.2</td>\n",
       "      <td>Cálculo Aplicado</td>\n",
       "      <td>8.4</td>\n",
       "    </tr>\n",
       "  </tbody>\n",
       "</table>\n",
       "</div>"
      ],
      "text/plain": [
       "  Período                                         Disciplina  Media Final\n",
       "0  2016.1                                       Computação I          8.5\n",
       "1  2016.2                                       Computação 2          7.0\n",
       "2  2017.1                     Linguagens Formais e Autômatos          8.8\n",
       "3  2017.2                        Arquitetura de Computadores          6.1\n",
       "4  2018.1                            Inteligência Artificial          8.5\n",
       "5  2018.2         Tópicos Especiais em Ciência da Computação         10.0\n",
       "6  2019.1  Probabilidade e Estatística para Ciência da Co...          8.6\n",
       "7  2019.2                                   Cálculo Aplicado          8.4"
      ]
     },
     "execution_count": 126,
     "metadata": {},
     "output_type": "execute_result"
    }
   ],
   "source": [
    "# finding the greatest grade for each semester\n",
    "greatest_grade_semester_df = df.withColumn(\"rank\", F.rank().over(Window.partitionBy(\"Período\").orderBy(F.desc(\"Media Final\")))).select(\"Período\",\"Disciplina\", \"Media Final\")\n",
    "greatest_grade_semester_df = greatest_grade_semester_df.filter(F.col(\"rank\") == 1).orderBy(F.col(\"Período\"))\n",
    "print(\"\\nTabela contendo a disciplina de maior nota em cada semestre:\")\n",
    "greatest_grade_semester_df.toPandas()"
   ]
  },
  {
   "cell_type": "code",
   "execution_count": 131,
   "metadata": {
    "scrolled": true
   },
   "outputs": [
    {
     "data": {
      "text/plain": [
       "<matplotlib.axes._subplots.AxesSubplot at 0x11d280a10>"
      ]
     },
     "execution_count": 131,
     "metadata": {},
     "output_type": "execute_result"
    },
    {
     "data": {
      "image/png": "[encoded data removed]",
      "text/plain": [
       "<Figure size 432x288 with 1 Axes>"
      ]
     },
     "metadata": {
      "needs_background": "light"
     },
     "output_type": "display_data"
    }
   ],
   "source": [
    "# ploting the graph for the greatest grade for each semester\n",
    "greatest_grade_semester_pd = greatest_grade_semester_df.toPandas()\n",
    "greatest_grade_semester_pd.plot(x=\"Período\", y=\"Media Final\", kind=\"line\", ylim=(0,10), title=\"A maior nota de cada semestre\")"
   ]
  },
  {
   "cell_type": "code",
   "execution_count": 132,
   "metadata": {},
   "outputs": [
    {
     "data": {
      "text/html": [
       "<div>\n",
       "<style scoped>\n",
       "    .dataframe tbody tr th:only-of-type {\n",
       "        vertical-align: middle;\n",
       "    }\n",
       "\n",
       "    .dataframe tbody tr th {\n",
       "        vertical-align: top;\n",
       "    }\n",
       "\n",
       "    .dataframe thead th {\n",
       "        text-align: right;\n",
       "    }\n",
       "</style>\n",
       "<table border=\"1\" class=\"dataframe\">\n",
       "  <thead>\n",
       "    <tr style=\"text-align: right;\">\n",
       "      <th></th>\n",
       "      <th>Período</th>\n",
       "      <th>Media</th>\n",
       "    </tr>\n",
       "  </thead>\n",
       "  <tbody>\n",
       "    <tr>\n",
       "      <th>0</th>\n",
       "      <td>2016.1</td>\n",
       "      <td>6.360000</td>\n",
       "    </tr>\n",
       "    <tr>\n",
       "      <th>1</th>\n",
       "      <td>2016.2</td>\n",
       "      <td>5.760000</td>\n",
       "    </tr>\n",
       "    <tr>\n",
       "      <th>2</th>\n",
       "      <td>2017.1</td>\n",
       "      <td>7.933333</td>\n",
       "    </tr>\n",
       "    <tr>\n",
       "      <th>3</th>\n",
       "      <td>2017.2</td>\n",
       "      <td>5.380000</td>\n",
       "    </tr>\n",
       "    <tr>\n",
       "      <th>4</th>\n",
       "      <td>2018.1</td>\n",
       "      <td>6.840000</td>\n",
       "    </tr>\n",
       "    <tr>\n",
       "      <th>5</th>\n",
       "      <td>2018.2</td>\n",
       "      <td>6.783333</td>\n",
       "    </tr>\n",
       "    <tr>\n",
       "      <th>6</th>\n",
       "      <td>2019.1</td>\n",
       "      <td>6.520000</td>\n",
       "    </tr>\n",
       "    <tr>\n",
       "      <th>7</th>\n",
       "      <td>2019.2</td>\n",
       "      <td>7.300000</td>\n",
       "    </tr>\n",
       "  </tbody>\n",
       "</table>\n",
       "</div>"
      ],
      "text/plain": [
       "  Período     Media\n",
       "0  2016.1  6.360000\n",
       "1  2016.2  5.760000\n",
       "2  2017.1  7.933333\n",
       "3  2017.2  5.380000\n",
       "4  2018.1  6.840000\n",
       "5  2018.2  6.783333\n",
       "6  2019.1  6.520000\n",
       "7  2019.2  7.300000"
      ]
     },
     "execution_count": 132,
     "metadata": {},
     "output_type": "execute_result"
    }
   ],
   "source": [
    "# finding the average grade for each semester\n",
    "avg_semester_df = df.groupBy(\"Período\").agg(F.avg(\"Media Final\").alias(\"Media\")).orderBy(\"Período\")\n",
    "avg_semester_df.toPandas()"
   ]
  },
  {
   "cell_type": "code",
   "execution_count": 134,
   "metadata": {},
   "outputs": [
    {
     "data": {
      "text/plain": [
       "<matplotlib.axes._subplots.AxesSubplot at 0x11da074d0>"
      ]
     },
     "execution_count": 134,
     "metadata": {},
     "output_type": "execute_result"
    },
    {
     "data": {
      "image/png": "[encoded data removed]",
      "text/plain": [
       "<Figure size 432x288 with 1 Axes>"
      ]
     },
     "metadata": {
      "needs_background": "light"
     },
     "output_type": "display_data"
    }
   ],
   "source": [
    "# ploting the graph of the average grade for each semester\n",
    "avg_semester_pd = avg_semester_df.toPandas()\n",
    "avg_semester_pd.plot(kind=\"line\", x=\"Período\", y=\"Media\", ylim=(0,10), title=\"Média das notas por semestre\")"
   ]
  },
  {
   "cell_type": "code",
   "execution_count": null,
   "metadata": {},
   "outputs": [],
   "source": []
  }
 ],
 "metadata": {
  "kernelspec": {
   "display_name": "Python 3",
   "language": "python",
   "name": "python3"
  },
  "language_info": {
   "codemirror_mode": {
    "name": "ipython",
    "version": 3
   },
   "file_extension": ".py",
   "mimetype": "text/x-python",
   "name": "python",
   "nbconvert_exporter": "python",
   "pygments_lexer": "ipython3",
   "version": "3.7.7"
  }
 },
 "nbformat": 4,
 "nbformat_minor": 4
}
